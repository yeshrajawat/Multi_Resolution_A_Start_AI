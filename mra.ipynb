{
 "cells": [
  {
   "cell_type": "code",
   "execution_count": 52,
   "id": "a4f9902e-7bad-4605-b74e-da5a1c0d2185",
   "metadata": {},
   "outputs": [
    {
     "name": "stdout",
     "output_type": "stream",
     "text": [
      "visited nodes of 1 : [['S', 8], ['A', 9], ['B', 9], ['G', 9]]\n",
      "Total Cost to find the path 0 is 35\n",
      "optimal nodes sequence of 0 :['S', 'B', 'G']\n",
      "Cost of Resolution 1 is: 9\n",
      "visited nodes of 2 : [['S', 0], ['B', 4], ['C', 8], ['D', 10], ['G', 13]]\n",
      "Total Cost to find the path 1 is 35\n",
      "optimal nodes sequence of 1 :['S', 'B', 'D', 'G']\n",
      "Cost of Resolution 2 is: 13\n",
      "The Resolution with the optimal solution is --Resolution1---. With optimal cost of : 9\n",
      "Most optimal path is : ['S', 'B', 'G']\n",
      "time taken = 0.0009980201721191406\n"
     ]
    }
   ],
   "source": [
    "import time\n",
    "n = 2\n",
    "costArray = [None]*3\n",
    "completeArray = [None]*3\n",
    "timeArray = [None]*3\n",
    "Resolution = [None]*n\n",
    "heuristic =[None]*n\n",
    "Resolution[0] = {'S': [['A', 1], ['B', 5], ['C', 8]],\n",
    "        'A': [['S', 1], ['D', 3], ['E', 7], ['G', 9]],\n",
    "        'B': [['S', 5], ['G', 4]],\n",
    "        'C': [['S', 8], ['G', 5]],\n",
    "        'D': [['A', 3]],\n",
    "        'E': [['A', 7]],\n",
    "        'G': [['A',9],['B',4],['C',5]]}\n",
    "\n",
    "Resolution[1] = {'S': [['A', 1], ['B', 2]],\n",
    "         'A': [['S', 1]],\n",
    "         'B': [['S', 2], ['C', 3], ['D', 4]],\n",
    "         'C': [['B', 2], ['E', 5], ['F', 6]],\n",
    "         'D': [['B', 4], ['G', 7]],\n",
    "         'E': [['C', 5]],\n",
    "         'F': [['C', 6]],\n",
    "         'G': [['D',4]]}\n",
    "\n",
    "heuristic[0] = {'S': 8, 'A': 8, 'B': 4, 'C': 3, 'D': 5000, 'E': 5000, 'G': 0}\n",
    "heuristic[1] = {'S': 0, 'A': 5000, 'B': 2, 'C': 3, 'D': 4, 'E': 5000, 'F': 5000, 'G': 0}\n",
    "\n",
    "# total cost for nodes visited\n",
    "cost = {'S': 0}             \n",
    "\n",
    "\n",
    "def AStarSearch(j):\n",
    "    global Resolution, heuristic\n",
    "    closed = []             \n",
    "    opened = [['S', heuristic[j]['S']]]     \n",
    "\n",
    "    #finding the visited nodes\n",
    "    while True:\n",
    "        optimal_cost = 0\n",
    "          # fn = f(n) = g(n) + h(n)\n",
    "        fn = [i[1] for i in opened]   \n",
    "        chosen_index = fn.index(min(fn))\n",
    "        node = opened[chosen_index][0]  # current node\n",
    "        closed.append(opened[chosen_index])\n",
    "        del opened[chosen_index]\n",
    "        if closed[-1][0] == 'G':       \n",
    "            break\n",
    "        for item in Resolution[j][node]:\n",
    "            if item[0] in [closed_item[0] for closed_item in closed]:\n",
    "                continue\n",
    "                # adding nodes to cost dictionary\n",
    "            cost.update({item[0]: cost[node] + item[1]})   \n",
    "              # calculating f(n) of current node\n",
    "            fn_node = cost[node] + heuristic[j][item[0]] + item[1]   \n",
    "            temp = [item[0], fn_node]\n",
    "             # storing f(n) of current node in array opened\n",
    "            opened.append(temp)                                    \n",
    "\n",
    "    #finding optimal sequence\n",
    "    trace_node = 'G'                       \n",
    "    optimal_sequence = ['G']                \n",
    "    for i in range(len(closed)-2, -1, -1):\n",
    "          # current node\n",
    "        check_node = closed[i][0]         \n",
    "        if trace_node in [children[0] for children in Resolution[j][check_node]]:\n",
    "            children_costs = [temp[1] for temp in Resolution[j][check_node]]\n",
    "            children_nodes = [temp[0] for temp in Resolution[j][check_node]]\n",
    "            \n",
    "            '''check whether h(s) + g(s) = f(s). If so, append current node to optimal sequence\n",
    "            change the correct optimal tracing node to current node'''\n",
    "            if cost[check_node] + children_costs[children_nodes.index(trace_node)] == cost[trace_node]:\n",
    "                optimal_sequence.append(check_node)\n",
    "                optimal_cost += children_costs[children_nodes.index(trace_node)]\n",
    "                trace_node = check_node\n",
    "                \n",
    "    optimal_sequence.reverse()             \n",
    "\n",
    "    return closed, optimal_sequence,optimal_cost\n",
    "\n",
    "#Initialising arrays for outputs\n",
    "visitedNodes = [None]*n\n",
    "optimalNodes = [None]*n\n",
    "cost1 = [None]*n\n",
    "\n",
    "begin = time.time()\n",
    "for j in range(0,n):\n",
    "    if __name__ == '__main__':\n",
    "        totalCost = 0\n",
    "        visitedNodes[j], optimalNodes[j],cost1[j] = AStarSearch(j)\n",
    "        print('visited nodes of '+str(j+1)+' : ' + str(visitedNodes[j]))\n",
    "        for i in visitedNodes[j]:\n",
    "            totalCost += i[1]\n",
    "        print('Total Cost to find the path ' + str(j) + ' is ' + str(totalCost))\n",
    "        print('optimal nodes sequence of '+ str(j) +' :'+ str(optimalNodes[j]))\n",
    "        print('Cost of Resolution ' +str(j+1) + ' is: '+str(cost1[j]))\n",
    "j = cost1.index(min(cost1))\n",
    "print('The Resolution with the optimal solution is --Resolution' + str(j+1) +'---. With optimal cost of : ' + str(cost1[j]))\n",
    "print('Most optimal path is : ' + str(optimalNodes[j]))\n",
    "end = time.time()\n",
    "print('time taken = '+str(end-begin))"
   ]
  },
  {
   "cell_type": "code",
   "execution_count": null,
   "id": "8a4a9d20-fe59-474d-91d2-ed5638eab0f0",
   "metadata": {},
   "outputs": [],
   "source": []
  },
  {
   "cell_type": "code",
   "execution_count": 53,
   "id": "0f3c71e8-2187-41d4-b853-7bbc0ebb58a6",
   "metadata": {},
   "outputs": [
    {
     "name": "stdout",
     "output_type": "stream",
     "text": [
      "visited nodes of 1 : [['S', 8], ['A', 9], ['B', 9], ['G', 9]]\n",
      "Total Cost to find the path 0 is 35\n",
      "optimal nodes sequence of 0 :['S', 'B', 'G']\n",
      "Optimal Cost 1 is: 9\n",
      "time taken = 0.0009899139404296875\n"
     ]
    }
   ],
   "source": [
    "begin = time.time()\n",
    "if __name__ == '__main__':\n",
    "    totalCost = 0\n",
    "    visitedNodes[j], optimalNodes[j],cost1[j] = AStarSearch(j)\n",
    "    print('visited nodes of '+str(j+1)+' : ' + str(visitedNodes[j]))\n",
    "    for i in visitedNodes[j]:\n",
    "        totalCost += i[1]\n",
    "    print('Total Cost to find the path ' + str(j) + ' is ' + str(totalCost))\n",
    "    costArray[0] = totalCost\n",
    "    completeArray[0] = 1\n",
    "    print('optimal nodes sequence of '+ str(j) +' :'+ str(optimalNodes[j]))\n",
    "    print('Optimal Cost ' +str(j+1) + ' is: '+str(cost1[j]))\n",
    "\n",
    "# print('The Resolution with the optimal solution is --Resolution' + str(j+1) +'---. With optimal cost of : ' + str(cost1[j]))\n",
    "# print('Most optimal path is : ' + str(optimalNodes[j]))##############################3\n",
    "end = time.time()\n",
    "timeArray[0] = end-begin\n",
    "print('time taken = '+str(end-begin))"
   ]
  },
  {
   "cell_type": "code",
   "execution_count": null,
   "id": "f1b0b9bd-b3c7-45a3-8200-b5ce1ec38b8a",
   "metadata": {},
   "outputs": [],
   "source": []
  },
  {
   "cell_type": "code",
   "execution_count": 119,
   "id": "0392e35f-e287-48d4-a0a5-768fec4b8d8c",
   "metadata": {},
   "outputs": [
    {
     "name": "stdout",
     "output_type": "stream",
     "text": [
      "Following is the Breadth-First Search\n",
      "S A B G Total Cost to reach the solution is :{'S': 0, 'A': 2, 'B': 2, 'C': 5, 'D': 6, 'E': 10, 'G': 4, 'F': 11}\n"
     ]
    }
   ],
   "source": [
    "begin = time.time()\n",
    "visited = [] # List for visited nodes.\n",
    "queue = []     #Initialize a queue\n",
    "\n",
    "def bfs(visited, Resolution, node): #function for BFS\n",
    "    visited.append(node)\n",
    "    queue.append(node)\n",
    "    costbfs = 0\n",
    "    while queue:          # Creating loop to visit each node\n",
    "        m = queue.pop(0) \n",
    "        print (m, end = \" \") \n",
    "    \n",
    "        for neighbour in Resolution[m]:\n",
    "            if neighbour[0] not in visited:\n",
    "                visited.append(neighbour[0])\n",
    "                queue.append(neighbour[0])\n",
    "                costbfs += neighbour[1]\n",
    "                if neighbour[0] == 'G':\n",
    "                    break\n",
    "    return cost         \n",
    "\n",
    "# Driver Code\n",
    "print(\"Following is the Breadth-First Search\")\n",
    "costbfs = bfs(visited, Resolution[0], 'S') \n",
    "costArray[1] = costbfs\n",
    "#completeArray[1] = 1\n",
    "end = time.time()\n",
    "timeArray[1] = end-begin\n",
    "print('Total Cost to reach the solution is :' + str(costbfs))"
   ]
  },
  {
   "cell_type": "code",
   "execution_count": null,
   "id": "c9052fd6-0a1a-434b-8fbd-3f4e997f4e3d",
   "metadata": {},
   "outputs": [],
   "source": []
  },
  {
   "cell_type": "code",
   "execution_count": null,
   "id": "d19dde08-8c49-42f4-b245-c90ce2a927f5",
   "metadata": {},
   "outputs": [],
   "source": []
  },
  {
   "cell_type": "code",
   "execution_count": null,
   "id": "b0a6402f-2319-4659-98fc-03ec16030af6",
   "metadata": {},
   "outputs": [],
   "source": []
  },
  {
   "cell_type": "code",
   "execution_count": 105,
   "id": "cf7bae11-aef8-4751-a2dd-00fac222e2e0",
   "metadata": {},
   "outputs": [
    {
     "name": "stdout",
     "output_type": "stream",
     "text": [
      "Cost of the search is : 6 time 0.0009982585906982422\n"
     ]
    }
   ],
   "source": [
    "begin = time.time()\n",
    "visited = set()\n",
    "found = [0,0]\n",
    "\n",
    "def dfs(visited,graph,root,found):\n",
    "    \n",
    "    if root not in visited:\n",
    "        #print(root+ ' ',end=\" \")\n",
    "        visited.add(root)\n",
    "        for neighbor in graph[root]:\n",
    "           \n",
    "            found[1] = found[1] + neighbor[1]\n",
    "           \n",
    "            if neighbor[0] == 'G':\n",
    "              \n",
    "                found[0] = 1\n",
    "                return found\n",
    "            else:\n",
    "                \n",
    "                found = dfs(visited,graph,neighbor[0],found)\n",
    "                if(found[0] == 1):\n",
    "                    break\n",
    "    return found\n",
    "              \n",
    "found = dfs(visited,Resolution[0],'S',found)\n",
    "costArray[2] = found[1]\n",
    "#completeArray[2] = 1\n",
    "end = time.time()\n",
    "timeArray[2] = end - begin\n",
    "print('Cost of the search is : ' + str(found[1]) + ' time ' + str(timeArray[2]))"
   ]
  },
  {
   "cell_type": "code",
   "execution_count": 106,
   "id": "c88fa61c-d460-46d8-beff-c638e4d1d875",
   "metadata": {},
   "outputs": [
    {
     "name": "stdout",
     "output_type": "stream",
     "text": [
      "visited nodes of 1 : [['S', 0], ['B', 4], ['C', 8], ['D', 10], ['G', 13]]\n",
      "Total Cost to find the path 0 is 35\n",
      "optimal nodes sequence of 0 :['S', 'B', 'D', 'G']\n",
      "Optimal Cost 1 is: 13\n",
      "time taken = 0.0009615421295166016\n"
     ]
    }
   ],
   "source": [
    "n = 1\n",
    "begin = time.time()\n",
    "costArray1 = [None]*3\n",
    "completeArray1 = [None]*3\n",
    "timeArray1 = [None]*3\n",
    "Resolution[0] = {'S': [['A', 1], ['B', 2]],\n",
    "         'A': [['S', 1]],\n",
    "         'B': [['S', 2], ['C', 3], ['D', 4]],\n",
    "         'C': [['B', 2], ['E', 5], ['F', 6]],\n",
    "         'D': [['B', 4], ['G', 7]],\n",
    "         'E': [['C', 5]],\n",
    "         'F': [['C', 6]],\n",
    "        'G': [['D',4]]}\n",
    "heuristic[0] = {'S': 0, 'A': 5000, 'B': 2, 'C': 3, 'D': 4, 'E': 5000, 'F': 5000, 'G': 0}\n",
    "\n",
    "if __name__ == '__main__':\n",
    "    totalCost = 0\n",
    "    visitedNodes[j], optimalNodes[j],cost1[j] = AStarSearch(j)\n",
    "    print('visited nodes of '+str(j+1)+' : ' + str(visitedNodes[j]))\n",
    "    for i in visitedNodes[j]:\n",
    "        totalCost += i[1]\n",
    "    print('Total Cost to find the path ' + str(j) + ' is ' + str(totalCost))\n",
    "    costArray1[0] = totalCost\n",
    "    completeArray1[0] = 1\n",
    "    print('optimal nodes sequence of '+ str(j) +' :'+ str(optimalNodes[j]))\n",
    "    print('Optimal Cost ' +str(j+1) + ' is: '+str(cost1[j]))\n",
    "\n",
    "# print('The Resolution with the optimal solution is --Resolution' + str(j+1) +'---. With optimal cost of : ' + str(cost1[j]))\n",
    "# print('Most optimal path is : ' + str(optimalNodes[j]))##############################3\n",
    "end = time.time()\n",
    "timeArray1[0] = end-begin\n",
    "print('time taken = '+str(end-begin))"
   ]
  },
  {
   "cell_type": "code",
   "execution_count": 107,
   "id": "4a92413c-afc8-4123-a32e-5bcb40db23a5",
   "metadata": {},
   "outputs": [
    {
     "name": "stdout",
     "output_type": "stream",
     "text": [
      "Following is the Breadth-First Search\n",
      "S A B C D E F G Total Cost to reach the solution is :{'S': 0, 'A': 1, 'B': 2, 'C': 5, 'D': 6, 'E': 10, 'G': 13, 'F': 11}\n"
     ]
    }
   ],
   "source": [
    "visited = [] # List for visited nodes.\n",
    "queue = []     #Initialize a queue\n",
    "print(\"Following is the Breadth-First Search\")\n",
    "costbfs = bfs(visited, Resolution[0], 'S') \n",
    "costArray1[1] = costbfs\n",
    "completeArray1[1] = 1\n",
    "#end = time.time()\n",
    "timeArray1[1] = end-begin\n",
    "print('Total Cost to reach the solution is :' + str(costbfs))"
   ]
  },
  {
   "cell_type": "code",
   "execution_count": 108,
   "id": "411e7003-9618-424c-b41a-4af08321d50e",
   "metadata": {},
   "outputs": [
    {
     "name": "stdout",
     "output_type": "stream",
     "text": [
      "Cost of the search is : 48\n"
     ]
    }
   ],
   "source": [
    "visited = set()\n",
    "found = [0,0]\n",
    "found = dfs(visited,Resolution[0],'S',found)\n",
    "costArray1[1] = found[1]\n",
    "completeArray1[1] = 1\n",
    "#end = time.time()\n",
    "timeArray1[2] = end - begin\n",
    "print('Cost of the search is : ' + str(found[1]))"
   ]
  },
  {
   "cell_type": "code",
   "execution_count": 109,
   "id": "49fc2f9f-fc5d-4db9-93fa-aa5bc0667d19",
   "metadata": {},
   "outputs": [],
   "source": [
    "Resolution[0] = {'S': [['A', 2], ['B', 2]],\n",
    "         'A': [['S', 2],['G',2]],\n",
    "         'B': [['S', 2], ['G', 2]],\n",
    "        'G': [['A',2],['B',2]]}\n",
    "heuristic[0] = {'S': 0, 'A': 1, 'B': 1,'G': 0}\n",
    "n = 1\n",
    "costArray2 = [None]*3\n",
    "completeArray2 = [None]*3\n",
    "timeArray2 = [None]*3"
   ]
  },
  {
   "cell_type": "code",
   "execution_count": 110,
   "id": "9b8591cb-a692-4de9-a107-3d52fa4b2216",
   "metadata": {},
   "outputs": [
    {
     "name": "stdout",
     "output_type": "stream",
     "text": [
      "visited nodes of 1 : [['S', 0], ['A', 3], ['B', 3], ['G', 4]]\n",
      "Total Cost to find the path 0 is 10\n",
      "optimal nodes sequence of 0 :['S', 'B', 'G']\n",
      "Optimal Cost 1 is: 4\n",
      "time taken = 0.001954793930053711\n"
     ]
    }
   ],
   "source": [
    "begin = time.time()\n",
    "if __name__ == '__main__':\n",
    "    \n",
    "    totalCost = 0\n",
    "    visitedNodes[j], optimalNodes[j],cost1[j] = AStarSearch(j)\n",
    "    print('visited nodes of '+str(j+1)+' : ' + str(visitedNodes[j]))\n",
    "    for i in visitedNodes[j]:\n",
    "        totalCost += i[1]\n",
    "    print('Total Cost to find the path ' + str(j) + ' is ' + str(totalCost))\n",
    "    costArray2[0] = totalCost\n",
    "    completeArray2[0] = 1\n",
    "    print('optimal nodes sequence of '+ str(j) +' :'+ str(optimalNodes[j]))\n",
    "    print('Optimal Cost ' +str(j+1) + ' is: '+str(cost1[j]))\n",
    "\n",
    "# print('The Resolution with the optimal solution is --Resolution' + str(j+1) +'---. With optimal cost of : ' + str(cost1[j]))\n",
    "# print('Most optimal path is : ' + str(optimalNodes[j]))##############################3\n",
    "end = time.time()\n",
    "timeArray2[0] = end-begin\n",
    "print('time taken = '+str(end-begin))"
   ]
  },
  {
   "cell_type": "code",
   "execution_count": null,
   "id": "0e9bad26-fbb4-4202-8467-60b77ecfe26d",
   "metadata": {},
   "outputs": [],
   "source": []
  },
  {
   "cell_type": "code",
   "execution_count": 111,
   "id": "b80aad83-afef-485e-9b5a-0b67d706b48a",
   "metadata": {},
   "outputs": [
    {
     "name": "stdout",
     "output_type": "stream",
     "text": [
      "Following is the Breadth-First Search\n",
      "S A B G Total Cost to reach the solution is :{'S': 0, 'A': 2, 'B': 2, 'C': 5, 'D': 6, 'E': 10, 'G': 4, 'F': 11}\n"
     ]
    }
   ],
   "source": [
    "visited = [] # List for visited nodes.\n",
    "queue = []     #Initialize a queue\n",
    "print(\"Following is the Breadth-First Search\")\n",
    "costbfs = bfs(visited, Resolution[0], 'S') \n",
    "costArray2[1] = costbfs\n",
    "completeArray2[1] = 1\n",
    "#end = time.time()\n",
    "timeArray2[1] = end-begin\n",
    "print('Total Cost to reach the solution is :' + str(costbfs))"
   ]
  },
  {
   "cell_type": "code",
   "execution_count": 112,
   "id": "bb10e308-a2f6-4dd3-ba25-7c7c8bcc356e",
   "metadata": {},
   "outputs": [
    {
     "data": {
      "text/plain": [
       "dict"
      ]
     },
     "execution_count": 112,
     "metadata": {},
     "output_type": "execute_result"
    }
   ],
   "source": [
    "type(costArray[1])"
   ]
  },
  {
   "cell_type": "code",
   "execution_count": 113,
   "id": "fe4412e5-c575-459a-9f44-8296e770839b",
   "metadata": {},
   "outputs": [
    {
     "name": "stdout",
     "output_type": "stream",
     "text": [
      "Cost of the search is : 6\n"
     ]
    }
   ],
   "source": [
    "visited = set()\n",
    "found = [0,0]\n",
    "found = dfs(visited,Resolution[0],'S',found)\n",
    "costArray2[1] = found[1]\n",
    "completeArray2 = 1\n",
    "#end = time.time()\n",
    "timeArray2[2] = end - begin\n",
    "print('Cost of the search is : ' + str(found[1]))"
   ]
  },
  {
   "cell_type": "code",
   "execution_count": 114,
   "id": "93aa992b-e909-4908-83ce-b3edb46ebe02",
   "metadata": {},
   "outputs": [
    {
     "data": {
      "text/plain": [
       "[0.0009899139404296875, 0.0010333061218261719, 0.0009982585906982422]"
      ]
     },
     "execution_count": 114,
     "metadata": {},
     "output_type": "execute_result"
    }
   ],
   "source": [
    "\n",
    "timeArray\n",
    "\n"
   ]
  },
  {
   "cell_type": "code",
   "execution_count": 115,
   "id": "e8d29766-f6b3-4bf3-b5ff-cd1d18e84797",
   "metadata": {},
   "outputs": [
    {
     "data": {
      "text/plain": [
       "[35, {'S': 0, 'A': 2, 'B': 2, 'C': 5, 'D': 6, 'E': 10, 'G': 4, 'F': 11}, 6]"
      ]
     },
     "execution_count": 115,
     "metadata": {},
     "output_type": "execute_result"
    }
   ],
   "source": [
    "costArray"
   ]
  },
  {
   "cell_type": "code",
   "execution_count": 116,
   "id": "8a16e299-9524-41e6-a95f-8f3c471cf032",
   "metadata": {},
   "outputs": [
    {
     "data": {
      "text/plain": [
       "[0.001954793930053711, 0.001954793930053711, 0.001954793930053711]"
      ]
     },
     "execution_count": 116,
     "metadata": {},
     "output_type": "execute_result"
    }
   ],
   "source": [
    "timeArray2"
   ]
  },
  {
   "cell_type": "code",
   "execution_count": 99,
   "id": "4c6f6c96-ad90-41a9-9b3a-d4344e6606f6",
   "metadata": {},
   "outputs": [
    {
     "ename": "TypeError",
     "evalue": "unsupported operand type(s) for +: 'int' and 'dict'",
     "output_type": "error",
     "traceback": [
      "\u001b[1;31m---------------------------------------------------------------------------\u001b[0m",
      "\u001b[1;31mTypeError\u001b[0m                                 Traceback (most recent call last)",
      "\u001b[1;32m~\\AppData\\Local\\Temp/ipykernel_8180/635882079.py\u001b[0m in \u001b[0;36m<module>\u001b[1;34m\u001b[0m\n\u001b[0;32m      7\u001b[0m \u001b[1;33m\u001b[0m\u001b[0m\n\u001b[0;32m      8\u001b[0m \u001b[1;33m\u001b[0m\u001b[0m\n\u001b[1;32m----> 9\u001b[1;33m \u001b[0mbar1\u001b[0m \u001b[1;33m=\u001b[0m \u001b[0mplt\u001b[0m\u001b[1;33m.\u001b[0m\u001b[0mbar\u001b[0m\u001b[1;33m(\u001b[0m\u001b[0mind\u001b[0m\u001b[1;33m,\u001b[0m \u001b[0mcostArray\u001b[0m\u001b[1;33m,\u001b[0m \u001b[0mwidth\u001b[0m\u001b[1;33m,\u001b[0m \u001b[0mcolor\u001b[0m \u001b[1;33m=\u001b[0m \u001b[1;34m'r'\u001b[0m\u001b[1;33m)\u001b[0m\u001b[1;33m\u001b[0m\u001b[1;33m\u001b[0m\u001b[0m\n\u001b[0m\u001b[0;32m     10\u001b[0m \u001b[1;33m\u001b[0m\u001b[0m\n\u001b[0;32m     11\u001b[0m \u001b[0myvals\u001b[0m \u001b[1;33m=\u001b[0m \u001b[1;33m[\u001b[0m\u001b[1;36m10\u001b[0m\u001b[1;33m,\u001b[0m \u001b[1;36m20\u001b[0m\u001b[1;33m,\u001b[0m \u001b[1;36m30\u001b[0m\u001b[1;33m]\u001b[0m\u001b[1;33m\u001b[0m\u001b[1;33m\u001b[0m\u001b[0m\n",
      "\u001b[1;32m~\\AppData\\Roaming\\Python\\Python310\\site-packages\\matplotlib\\pyplot.py\u001b[0m in \u001b[0;36mbar\u001b[1;34m(x, height, width, bottom, align, data, **kwargs)\u001b[0m\n\u001b[0;32m   2385\u001b[0m         \u001b[0mx\u001b[0m\u001b[1;33m,\u001b[0m \u001b[0mheight\u001b[0m\u001b[1;33m,\u001b[0m \u001b[0mwidth\u001b[0m\u001b[1;33m=\u001b[0m\u001b[1;36m0.8\u001b[0m\u001b[1;33m,\u001b[0m \u001b[0mbottom\u001b[0m\u001b[1;33m=\u001b[0m\u001b[1;32mNone\u001b[0m\u001b[1;33m,\u001b[0m \u001b[1;33m*\u001b[0m\u001b[1;33m,\u001b[0m \u001b[0malign\u001b[0m\u001b[1;33m=\u001b[0m\u001b[1;34m'center'\u001b[0m\u001b[1;33m,\u001b[0m\u001b[1;33m\u001b[0m\u001b[1;33m\u001b[0m\u001b[0m\n\u001b[0;32m   2386\u001b[0m         data=None, **kwargs):\n\u001b[1;32m-> 2387\u001b[1;33m     return gca().bar(\n\u001b[0m\u001b[0;32m   2388\u001b[0m         \u001b[0mx\u001b[0m\u001b[1;33m,\u001b[0m \u001b[0mheight\u001b[0m\u001b[1;33m,\u001b[0m \u001b[0mwidth\u001b[0m\u001b[1;33m=\u001b[0m\u001b[0mwidth\u001b[0m\u001b[1;33m,\u001b[0m \u001b[0mbottom\u001b[0m\u001b[1;33m=\u001b[0m\u001b[0mbottom\u001b[0m\u001b[1;33m,\u001b[0m \u001b[0malign\u001b[0m\u001b[1;33m=\u001b[0m\u001b[0malign\u001b[0m\u001b[1;33m,\u001b[0m\u001b[1;33m\u001b[0m\u001b[1;33m\u001b[0m\u001b[0m\n\u001b[0;32m   2389\u001b[0m         **({\"data\": data} if data is not None else {}), **kwargs)\n",
      "\u001b[1;32m~\\AppData\\Roaming\\Python\\Python310\\site-packages\\matplotlib\\__init__.py\u001b[0m in \u001b[0;36minner\u001b[1;34m(ax, data, *args, **kwargs)\u001b[0m\n\u001b[0;32m   1410\u001b[0m     \u001b[1;32mdef\u001b[0m \u001b[0minner\u001b[0m\u001b[1;33m(\u001b[0m\u001b[0max\u001b[0m\u001b[1;33m,\u001b[0m \u001b[1;33m*\u001b[0m\u001b[0margs\u001b[0m\u001b[1;33m,\u001b[0m \u001b[0mdata\u001b[0m\u001b[1;33m=\u001b[0m\u001b[1;32mNone\u001b[0m\u001b[1;33m,\u001b[0m \u001b[1;33m**\u001b[0m\u001b[0mkwargs\u001b[0m\u001b[1;33m)\u001b[0m\u001b[1;33m:\u001b[0m\u001b[1;33m\u001b[0m\u001b[1;33m\u001b[0m\u001b[0m\n\u001b[0;32m   1411\u001b[0m         \u001b[1;32mif\u001b[0m \u001b[0mdata\u001b[0m \u001b[1;32mis\u001b[0m \u001b[1;32mNone\u001b[0m\u001b[1;33m:\u001b[0m\u001b[1;33m\u001b[0m\u001b[1;33m\u001b[0m\u001b[0m\n\u001b[1;32m-> 1412\u001b[1;33m             \u001b[1;32mreturn\u001b[0m \u001b[0mfunc\u001b[0m\u001b[1;33m(\u001b[0m\u001b[0max\u001b[0m\u001b[1;33m,\u001b[0m \u001b[1;33m*\u001b[0m\u001b[0mmap\u001b[0m\u001b[1;33m(\u001b[0m\u001b[0msanitize_sequence\u001b[0m\u001b[1;33m,\u001b[0m \u001b[0margs\u001b[0m\u001b[1;33m)\u001b[0m\u001b[1;33m,\u001b[0m \u001b[1;33m**\u001b[0m\u001b[0mkwargs\u001b[0m\u001b[1;33m)\u001b[0m\u001b[1;33m\u001b[0m\u001b[1;33m\u001b[0m\u001b[0m\n\u001b[0m\u001b[0;32m   1413\u001b[0m \u001b[1;33m\u001b[0m\u001b[0m\n\u001b[0;32m   1414\u001b[0m         \u001b[0mbound\u001b[0m \u001b[1;33m=\u001b[0m \u001b[0mnew_sig\u001b[0m\u001b[1;33m.\u001b[0m\u001b[0mbind\u001b[0m\u001b[1;33m(\u001b[0m\u001b[0max\u001b[0m\u001b[1;33m,\u001b[0m \u001b[1;33m*\u001b[0m\u001b[0margs\u001b[0m\u001b[1;33m,\u001b[0m \u001b[1;33m**\u001b[0m\u001b[0mkwargs\u001b[0m\u001b[1;33m)\u001b[0m\u001b[1;33m\u001b[0m\u001b[1;33m\u001b[0m\u001b[0m\n",
      "\u001b[1;32m~\\AppData\\Roaming\\Python\\Python310\\site-packages\\matplotlib\\axes\\_axes.py\u001b[0m in \u001b[0;36mbar\u001b[1;34m(self, x, height, width, bottom, align, **kwargs)\u001b[0m\n\u001b[0;32m   2393\u001b[0m                    hatch)\n\u001b[0;32m   2394\u001b[0m         \u001b[1;32mfor\u001b[0m \u001b[0ml\u001b[0m\u001b[1;33m,\u001b[0m \u001b[0mb\u001b[0m\u001b[1;33m,\u001b[0m \u001b[0mw\u001b[0m\u001b[1;33m,\u001b[0m \u001b[0mh\u001b[0m\u001b[1;33m,\u001b[0m \u001b[0mc\u001b[0m\u001b[1;33m,\u001b[0m \u001b[0me\u001b[0m\u001b[1;33m,\u001b[0m \u001b[0mlw\u001b[0m\u001b[1;33m,\u001b[0m \u001b[0mhtch\u001b[0m \u001b[1;32min\u001b[0m \u001b[0margs\u001b[0m\u001b[1;33m:\u001b[0m\u001b[1;33m\u001b[0m\u001b[1;33m\u001b[0m\u001b[0m\n\u001b[1;32m-> 2395\u001b[1;33m             r = mpatches.Rectangle(\n\u001b[0m\u001b[0;32m   2396\u001b[0m                 \u001b[0mxy\u001b[0m\u001b[1;33m=\u001b[0m\u001b[1;33m(\u001b[0m\u001b[0ml\u001b[0m\u001b[1;33m,\u001b[0m \u001b[0mb\u001b[0m\u001b[1;33m)\u001b[0m\u001b[1;33m,\u001b[0m \u001b[0mwidth\u001b[0m\u001b[1;33m=\u001b[0m\u001b[0mw\u001b[0m\u001b[1;33m,\u001b[0m \u001b[0mheight\u001b[0m\u001b[1;33m=\u001b[0m\u001b[0mh\u001b[0m\u001b[1;33m,\u001b[0m\u001b[1;33m\u001b[0m\u001b[1;33m\u001b[0m\u001b[0m\n\u001b[0;32m   2397\u001b[0m                 \u001b[0mfacecolor\u001b[0m\u001b[1;33m=\u001b[0m\u001b[0mc\u001b[0m\u001b[1;33m,\u001b[0m\u001b[1;33m\u001b[0m\u001b[1;33m\u001b[0m\u001b[0m\n",
      "\u001b[1;32m~\\AppData\\Roaming\\Python\\Python310\\site-packages\\matplotlib\\patches.py\u001b[0m in \u001b[0;36m__init__\u001b[1;34m(self, xy, width, height, angle, **kwargs)\u001b[0m\n\u001b[0;32m    731\u001b[0m         \u001b[0mself\u001b[0m\u001b[1;33m.\u001b[0m\u001b[0m_height\u001b[0m \u001b[1;33m=\u001b[0m \u001b[0mheight\u001b[0m\u001b[1;33m\u001b[0m\u001b[1;33m\u001b[0m\u001b[0m\n\u001b[0;32m    732\u001b[0m         \u001b[0mself\u001b[0m\u001b[1;33m.\u001b[0m\u001b[0mangle\u001b[0m \u001b[1;33m=\u001b[0m \u001b[0mfloat\u001b[0m\u001b[1;33m(\u001b[0m\u001b[0mangle\u001b[0m\u001b[1;33m)\u001b[0m\u001b[1;33m\u001b[0m\u001b[1;33m\u001b[0m\u001b[0m\n\u001b[1;32m--> 733\u001b[1;33m         \u001b[0mself\u001b[0m\u001b[1;33m.\u001b[0m\u001b[0m_convert_units\u001b[0m\u001b[1;33m(\u001b[0m\u001b[1;33m)\u001b[0m  \u001b[1;31m# Validate the inputs.\u001b[0m\u001b[1;33m\u001b[0m\u001b[1;33m\u001b[0m\u001b[0m\n\u001b[0m\u001b[0;32m    734\u001b[0m \u001b[1;33m\u001b[0m\u001b[0m\n\u001b[0;32m    735\u001b[0m     \u001b[1;32mdef\u001b[0m \u001b[0mget_path\u001b[0m\u001b[1;33m(\u001b[0m\u001b[0mself\u001b[0m\u001b[1;33m)\u001b[0m\u001b[1;33m:\u001b[0m\u001b[1;33m\u001b[0m\u001b[1;33m\u001b[0m\u001b[0m\n",
      "\u001b[1;32m~\\AppData\\Roaming\\Python\\Python310\\site-packages\\matplotlib\\patches.py\u001b[0m in \u001b[0;36m_convert_units\u001b[1;34m(self)\u001b[0m\n\u001b[0;32m    742\u001b[0m         \u001b[0my0\u001b[0m \u001b[1;33m=\u001b[0m \u001b[0mself\u001b[0m\u001b[1;33m.\u001b[0m\u001b[0mconvert_yunits\u001b[0m\u001b[1;33m(\u001b[0m\u001b[0mself\u001b[0m\u001b[1;33m.\u001b[0m\u001b[0m_y0\u001b[0m\u001b[1;33m)\u001b[0m\u001b[1;33m\u001b[0m\u001b[1;33m\u001b[0m\u001b[0m\n\u001b[0;32m    743\u001b[0m         \u001b[0mx1\u001b[0m \u001b[1;33m=\u001b[0m \u001b[0mself\u001b[0m\u001b[1;33m.\u001b[0m\u001b[0mconvert_xunits\u001b[0m\u001b[1;33m(\u001b[0m\u001b[0mself\u001b[0m\u001b[1;33m.\u001b[0m\u001b[0m_x0\u001b[0m \u001b[1;33m+\u001b[0m \u001b[0mself\u001b[0m\u001b[1;33m.\u001b[0m\u001b[0m_width\u001b[0m\u001b[1;33m)\u001b[0m\u001b[1;33m\u001b[0m\u001b[1;33m\u001b[0m\u001b[0m\n\u001b[1;32m--> 744\u001b[1;33m         \u001b[0my1\u001b[0m \u001b[1;33m=\u001b[0m \u001b[0mself\u001b[0m\u001b[1;33m.\u001b[0m\u001b[0mconvert_yunits\u001b[0m\u001b[1;33m(\u001b[0m\u001b[0mself\u001b[0m\u001b[1;33m.\u001b[0m\u001b[0m_y0\u001b[0m \u001b[1;33m+\u001b[0m \u001b[0mself\u001b[0m\u001b[1;33m.\u001b[0m\u001b[0m_height\u001b[0m\u001b[1;33m)\u001b[0m\u001b[1;33m\u001b[0m\u001b[1;33m\u001b[0m\u001b[0m\n\u001b[0m\u001b[0;32m    745\u001b[0m         \u001b[1;32mreturn\u001b[0m \u001b[0mx0\u001b[0m\u001b[1;33m,\u001b[0m \u001b[0my0\u001b[0m\u001b[1;33m,\u001b[0m \u001b[0mx1\u001b[0m\u001b[1;33m,\u001b[0m \u001b[0my1\u001b[0m\u001b[1;33m\u001b[0m\u001b[1;33m\u001b[0m\u001b[0m\n\u001b[0;32m    746\u001b[0m \u001b[1;33m\u001b[0m\u001b[0m\n",
      "\u001b[1;31mTypeError\u001b[0m: unsupported operand type(s) for +: 'int' and 'dict'"
     ]
    },
    {
     "data": {
      "image/png": "[encoded data removed]",
      "text/plain": [
       "<Figure size 432x288 with 1 Axes>"
      ]
     },
     "metadata": {
      "needs_background": "light"
     },
     "output_type": "display_data"
    }
   ],
   "source": [
    "import numpy as np\n",
    "import matplotlib.pyplot as plt\n",
    "\n",
    "N = 3\n",
    "ind = np.arange(N)\n",
    "width = 0.25\n",
    "\n",
    "\n",
    "bar1 = plt.bar(ind, costArray, width, color = 'r')\n",
    "\n",
    "yvals = [10, 20, 30]\n",
    "bar2 = plt.bar(ind+width, completeArray, width, color='g')\n",
    "\n",
    "zvals = [11, 12, 13]\n",
    "bar3 = plt.bar(ind+width*2, timeArray, width, color = 'b')\n",
    "\n",
    "plt.xlabel(\"Dates\")\n",
    "plt.ylabel('Scores')\n",
    "plt.title(\"Players Score\")\n",
    "\n",
    "plt.xticks(ind+width,['MRA', 'BFS', 'A*'])\n",
    "plt.legend( (bar1, bar2, bar3), ('Cost of Search', 'Completeness', 'Time Taken') )\n",
    "plt.show()"
   ]
  },
  {
   "cell_type": "code",
   "execution_count": 71,
   "id": "a702b58e-7db4-4873-8fee-59a8eb6a634a",
   "metadata": {},
   "outputs": [
    {
     "ename": "TypeError",
     "evalue": "unsupported operand type(s) for +: 'int' and 'NoneType'",
     "output_type": "error",
     "traceback": [
      "\u001b[1;31m---------------------------------------------------------------------------\u001b[0m",
      "\u001b[1;31mTypeError\u001b[0m                                 Traceback (most recent call last)",
      "\u001b[1;32m~\\AppData\\Local\\Temp/ipykernel_8180/148536893.py\u001b[0m in \u001b[0;36m<module>\u001b[1;34m\u001b[0m\n\u001b[0;32m      7\u001b[0m \u001b[1;33m\u001b[0m\u001b[0m\n\u001b[0;32m      8\u001b[0m \u001b[0mxvals\u001b[0m \u001b[1;33m=\u001b[0m \u001b[1;33m[\u001b[0m\u001b[0mcostArray\u001b[0m\u001b[1;33m[\u001b[0m\u001b[1;36m0\u001b[0m\u001b[1;33m]\u001b[0m\u001b[1;33m,\u001b[0m\u001b[0mcostArray\u001b[0m\u001b[1;33m[\u001b[0m\u001b[1;36m1\u001b[0m\u001b[1;33m]\u001b[0m\u001b[1;33m,\u001b[0m \u001b[0mcostArray\u001b[0m\u001b[1;33m[\u001b[0m\u001b[1;36m2\u001b[0m\u001b[1;33m]\u001b[0m\u001b[1;33m]\u001b[0m\u001b[1;33m\u001b[0m\u001b[1;33m\u001b[0m\u001b[0m\n\u001b[1;32m----> 9\u001b[1;33m \u001b[0mbar1\u001b[0m \u001b[1;33m=\u001b[0m \u001b[0mplt\u001b[0m\u001b[1;33m.\u001b[0m\u001b[0mbar\u001b[0m\u001b[1;33m(\u001b[0m\u001b[0mind\u001b[0m\u001b[1;33m,\u001b[0m \u001b[0mxvals\u001b[0m\u001b[1;33m,\u001b[0m \u001b[0mwidth\u001b[0m\u001b[1;33m,\u001b[0m \u001b[0mcolor\u001b[0m \u001b[1;33m=\u001b[0m \u001b[1;34m'r'\u001b[0m\u001b[1;33m)\u001b[0m\u001b[1;33m\u001b[0m\u001b[1;33m\u001b[0m\u001b[0m\n\u001b[0m\u001b[0;32m     10\u001b[0m \u001b[1;33m\u001b[0m\u001b[0m\n\u001b[0;32m     11\u001b[0m \u001b[0myvals\u001b[0m \u001b[1;33m=\u001b[0m \u001b[1;33m[\u001b[0m \u001b[0mcompleteArray\u001b[0m\u001b[1;33m[\u001b[0m\u001b[1;36m0\u001b[0m\u001b[1;33m]\u001b[0m\u001b[1;33m,\u001b[0m  \u001b[0mcompleteArray\u001b[0m\u001b[1;33m[\u001b[0m\u001b[1;36m1\u001b[0m\u001b[1;33m]\u001b[0m\u001b[1;33m,\u001b[0m \u001b[0mcompleteArray\u001b[0m\u001b[1;33m[\u001b[0m\u001b[1;36m2\u001b[0m\u001b[1;33m]\u001b[0m\u001b[1;33m]\u001b[0m\u001b[1;33m\u001b[0m\u001b[1;33m\u001b[0m\u001b[0m\n",
      "\u001b[1;32m~\\AppData\\Roaming\\Python\\Python310\\site-packages\\matplotlib\\pyplot.py\u001b[0m in \u001b[0;36mbar\u001b[1;34m(x, height, width, bottom, align, data, **kwargs)\u001b[0m\n\u001b[0;32m   2385\u001b[0m         \u001b[0mx\u001b[0m\u001b[1;33m,\u001b[0m \u001b[0mheight\u001b[0m\u001b[1;33m,\u001b[0m \u001b[0mwidth\u001b[0m\u001b[1;33m=\u001b[0m\u001b[1;36m0.8\u001b[0m\u001b[1;33m,\u001b[0m \u001b[0mbottom\u001b[0m\u001b[1;33m=\u001b[0m\u001b[1;32mNone\u001b[0m\u001b[1;33m,\u001b[0m \u001b[1;33m*\u001b[0m\u001b[1;33m,\u001b[0m \u001b[0malign\u001b[0m\u001b[1;33m=\u001b[0m\u001b[1;34m'center'\u001b[0m\u001b[1;33m,\u001b[0m\u001b[1;33m\u001b[0m\u001b[1;33m\u001b[0m\u001b[0m\n\u001b[0;32m   2386\u001b[0m         data=None, **kwargs):\n\u001b[1;32m-> 2387\u001b[1;33m     return gca().bar(\n\u001b[0m\u001b[0;32m   2388\u001b[0m         \u001b[0mx\u001b[0m\u001b[1;33m,\u001b[0m \u001b[0mheight\u001b[0m\u001b[1;33m,\u001b[0m \u001b[0mwidth\u001b[0m\u001b[1;33m=\u001b[0m\u001b[0mwidth\u001b[0m\u001b[1;33m,\u001b[0m \u001b[0mbottom\u001b[0m\u001b[1;33m=\u001b[0m\u001b[0mbottom\u001b[0m\u001b[1;33m,\u001b[0m \u001b[0malign\u001b[0m\u001b[1;33m=\u001b[0m\u001b[0malign\u001b[0m\u001b[1;33m,\u001b[0m\u001b[1;33m\u001b[0m\u001b[1;33m\u001b[0m\u001b[0m\n\u001b[0;32m   2389\u001b[0m         **({\"data\": data} if data is not None else {}), **kwargs)\n",
      "\u001b[1;32m~\\AppData\\Roaming\\Python\\Python310\\site-packages\\matplotlib\\__init__.py\u001b[0m in \u001b[0;36minner\u001b[1;34m(ax, data, *args, **kwargs)\u001b[0m\n\u001b[0;32m   1410\u001b[0m     \u001b[1;32mdef\u001b[0m \u001b[0minner\u001b[0m\u001b[1;33m(\u001b[0m\u001b[0max\u001b[0m\u001b[1;33m,\u001b[0m \u001b[1;33m*\u001b[0m\u001b[0margs\u001b[0m\u001b[1;33m,\u001b[0m \u001b[0mdata\u001b[0m\u001b[1;33m=\u001b[0m\u001b[1;32mNone\u001b[0m\u001b[1;33m,\u001b[0m \u001b[1;33m**\u001b[0m\u001b[0mkwargs\u001b[0m\u001b[1;33m)\u001b[0m\u001b[1;33m:\u001b[0m\u001b[1;33m\u001b[0m\u001b[1;33m\u001b[0m\u001b[0m\n\u001b[0;32m   1411\u001b[0m         \u001b[1;32mif\u001b[0m \u001b[0mdata\u001b[0m \u001b[1;32mis\u001b[0m \u001b[1;32mNone\u001b[0m\u001b[1;33m:\u001b[0m\u001b[1;33m\u001b[0m\u001b[1;33m\u001b[0m\u001b[0m\n\u001b[1;32m-> 1412\u001b[1;33m             \u001b[1;32mreturn\u001b[0m \u001b[0mfunc\u001b[0m\u001b[1;33m(\u001b[0m\u001b[0max\u001b[0m\u001b[1;33m,\u001b[0m \u001b[1;33m*\u001b[0m\u001b[0mmap\u001b[0m\u001b[1;33m(\u001b[0m\u001b[0msanitize_sequence\u001b[0m\u001b[1;33m,\u001b[0m \u001b[0margs\u001b[0m\u001b[1;33m)\u001b[0m\u001b[1;33m,\u001b[0m \u001b[1;33m**\u001b[0m\u001b[0mkwargs\u001b[0m\u001b[1;33m)\u001b[0m\u001b[1;33m\u001b[0m\u001b[1;33m\u001b[0m\u001b[0m\n\u001b[0m\u001b[0;32m   1413\u001b[0m \u001b[1;33m\u001b[0m\u001b[0m\n\u001b[0;32m   1414\u001b[0m         \u001b[0mbound\u001b[0m \u001b[1;33m=\u001b[0m \u001b[0mnew_sig\u001b[0m\u001b[1;33m.\u001b[0m\u001b[0mbind\u001b[0m\u001b[1;33m(\u001b[0m\u001b[0max\u001b[0m\u001b[1;33m,\u001b[0m \u001b[1;33m*\u001b[0m\u001b[0margs\u001b[0m\u001b[1;33m,\u001b[0m \u001b[1;33m**\u001b[0m\u001b[0mkwargs\u001b[0m\u001b[1;33m)\u001b[0m\u001b[1;33m\u001b[0m\u001b[1;33m\u001b[0m\u001b[0m\n",
      "\u001b[1;32m~\\AppData\\Roaming\\Python\\Python310\\site-packages\\matplotlib\\axes\\_axes.py\u001b[0m in \u001b[0;36mbar\u001b[1;34m(self, x, height, width, bottom, align, **kwargs)\u001b[0m\n\u001b[0;32m   2393\u001b[0m                    hatch)\n\u001b[0;32m   2394\u001b[0m         \u001b[1;32mfor\u001b[0m \u001b[0ml\u001b[0m\u001b[1;33m,\u001b[0m \u001b[0mb\u001b[0m\u001b[1;33m,\u001b[0m \u001b[0mw\u001b[0m\u001b[1;33m,\u001b[0m \u001b[0mh\u001b[0m\u001b[1;33m,\u001b[0m \u001b[0mc\u001b[0m\u001b[1;33m,\u001b[0m \u001b[0me\u001b[0m\u001b[1;33m,\u001b[0m \u001b[0mlw\u001b[0m\u001b[1;33m,\u001b[0m \u001b[0mhtch\u001b[0m \u001b[1;32min\u001b[0m \u001b[0margs\u001b[0m\u001b[1;33m:\u001b[0m\u001b[1;33m\u001b[0m\u001b[1;33m\u001b[0m\u001b[0m\n\u001b[1;32m-> 2395\u001b[1;33m             r = mpatches.Rectangle(\n\u001b[0m\u001b[0;32m   2396\u001b[0m                 \u001b[0mxy\u001b[0m\u001b[1;33m=\u001b[0m\u001b[1;33m(\u001b[0m\u001b[0ml\u001b[0m\u001b[1;33m,\u001b[0m \u001b[0mb\u001b[0m\u001b[1;33m)\u001b[0m\u001b[1;33m,\u001b[0m \u001b[0mwidth\u001b[0m\u001b[1;33m=\u001b[0m\u001b[0mw\u001b[0m\u001b[1;33m,\u001b[0m \u001b[0mheight\u001b[0m\u001b[1;33m=\u001b[0m\u001b[0mh\u001b[0m\u001b[1;33m,\u001b[0m\u001b[1;33m\u001b[0m\u001b[1;33m\u001b[0m\u001b[0m\n\u001b[0;32m   2397\u001b[0m                 \u001b[0mfacecolor\u001b[0m\u001b[1;33m=\u001b[0m\u001b[0mc\u001b[0m\u001b[1;33m,\u001b[0m\u001b[1;33m\u001b[0m\u001b[1;33m\u001b[0m\u001b[0m\n",
      "\u001b[1;32m~\\AppData\\Roaming\\Python\\Python310\\site-packages\\matplotlib\\patches.py\u001b[0m in \u001b[0;36m__init__\u001b[1;34m(self, xy, width, height, angle, **kwargs)\u001b[0m\n\u001b[0;32m    731\u001b[0m         \u001b[0mself\u001b[0m\u001b[1;33m.\u001b[0m\u001b[0m_height\u001b[0m \u001b[1;33m=\u001b[0m \u001b[0mheight\u001b[0m\u001b[1;33m\u001b[0m\u001b[1;33m\u001b[0m\u001b[0m\n\u001b[0;32m    732\u001b[0m         \u001b[0mself\u001b[0m\u001b[1;33m.\u001b[0m\u001b[0mangle\u001b[0m \u001b[1;33m=\u001b[0m \u001b[0mfloat\u001b[0m\u001b[1;33m(\u001b[0m\u001b[0mangle\u001b[0m\u001b[1;33m)\u001b[0m\u001b[1;33m\u001b[0m\u001b[1;33m\u001b[0m\u001b[0m\n\u001b[1;32m--> 733\u001b[1;33m         \u001b[0mself\u001b[0m\u001b[1;33m.\u001b[0m\u001b[0m_convert_units\u001b[0m\u001b[1;33m(\u001b[0m\u001b[1;33m)\u001b[0m  \u001b[1;31m# Validate the inputs.\u001b[0m\u001b[1;33m\u001b[0m\u001b[1;33m\u001b[0m\u001b[0m\n\u001b[0m\u001b[0;32m    734\u001b[0m \u001b[1;33m\u001b[0m\u001b[0m\n\u001b[0;32m    735\u001b[0m     \u001b[1;32mdef\u001b[0m \u001b[0mget_path\u001b[0m\u001b[1;33m(\u001b[0m\u001b[0mself\u001b[0m\u001b[1;33m)\u001b[0m\u001b[1;33m:\u001b[0m\u001b[1;33m\u001b[0m\u001b[1;33m\u001b[0m\u001b[0m\n",
      "\u001b[1;32m~\\AppData\\Roaming\\Python\\Python310\\site-packages\\matplotlib\\patches.py\u001b[0m in \u001b[0;36m_convert_units\u001b[1;34m(self)\u001b[0m\n\u001b[0;32m    742\u001b[0m         \u001b[0my0\u001b[0m \u001b[1;33m=\u001b[0m \u001b[0mself\u001b[0m\u001b[1;33m.\u001b[0m\u001b[0mconvert_yunits\u001b[0m\u001b[1;33m(\u001b[0m\u001b[0mself\u001b[0m\u001b[1;33m.\u001b[0m\u001b[0m_y0\u001b[0m\u001b[1;33m)\u001b[0m\u001b[1;33m\u001b[0m\u001b[1;33m\u001b[0m\u001b[0m\n\u001b[0;32m    743\u001b[0m         \u001b[0mx1\u001b[0m \u001b[1;33m=\u001b[0m \u001b[0mself\u001b[0m\u001b[1;33m.\u001b[0m\u001b[0mconvert_xunits\u001b[0m\u001b[1;33m(\u001b[0m\u001b[0mself\u001b[0m\u001b[1;33m.\u001b[0m\u001b[0m_x0\u001b[0m \u001b[1;33m+\u001b[0m \u001b[0mself\u001b[0m\u001b[1;33m.\u001b[0m\u001b[0m_width\u001b[0m\u001b[1;33m)\u001b[0m\u001b[1;33m\u001b[0m\u001b[1;33m\u001b[0m\u001b[0m\n\u001b[1;32m--> 744\u001b[1;33m         \u001b[0my1\u001b[0m \u001b[1;33m=\u001b[0m \u001b[0mself\u001b[0m\u001b[1;33m.\u001b[0m\u001b[0mconvert_yunits\u001b[0m\u001b[1;33m(\u001b[0m\u001b[0mself\u001b[0m\u001b[1;33m.\u001b[0m\u001b[0m_y0\u001b[0m \u001b[1;33m+\u001b[0m \u001b[0mself\u001b[0m\u001b[1;33m.\u001b[0m\u001b[0m_height\u001b[0m\u001b[1;33m)\u001b[0m\u001b[1;33m\u001b[0m\u001b[1;33m\u001b[0m\u001b[0m\n\u001b[0m\u001b[0;32m    745\u001b[0m         \u001b[1;32mreturn\u001b[0m \u001b[0mx0\u001b[0m\u001b[1;33m,\u001b[0m \u001b[0my0\u001b[0m\u001b[1;33m,\u001b[0m \u001b[0mx1\u001b[0m\u001b[1;33m,\u001b[0m \u001b[0my1\u001b[0m\u001b[1;33m\u001b[0m\u001b[1;33m\u001b[0m\u001b[0m\n\u001b[0;32m    746\u001b[0m \u001b[1;33m\u001b[0m\u001b[0m\n",
      "\u001b[1;31mTypeError\u001b[0m: unsupported operand type(s) for +: 'int' and 'NoneType'"
     ]
    },
    {
     "data": {
      "image/png": "[encoded data removed]",
      "text/plain": [
       "<Figure size 432x288 with 1 Axes>"
      ]
     },
     "metadata": {
      "needs_background": "light"
     },
     "output_type": "display_data"
    }
   ],
   "source": [
    "import numpy as np\n",
    "import matplotlib.pyplot as plt\n",
    "\n",
    "N = 3\n",
    "ind = np.arange(N)\n",
    "width = 0.25\n",
    "\n",
    "xvals = [costArray[0],costArray[1], costArray[2]]\n",
    "bar1 = plt.bar(ind, xvals, width, color = 'r')\n",
    "\n",
    "yvals = [ completeArray[0],  completeArray[1], completeArray[2]]\n",
    "bar2 = plt.bar(ind+width, yvals, width, color='g')\n",
    "\n",
    "zvals = [timeArray[0], timeArray[1], timeArray[2]]\n",
    "bar3 = plt.bar(ind+width*2, zvals, width, color = 'b')\n",
    "\n",
    "plt.xlabel(\"Dates\")\n",
    "plt.ylabel('Scores')\n",
    "plt.title(\"Players Score\")\n",
    "\n",
    "plt.xticks(ind+width,['2021Feb01', '2021Feb02', '2021Feb03'])\n",
    "plt.legend( (bar1, bar2, bar3), ('Player1', 'Player2', 'Player3') )\n",
    "plt.show()"
   ]
  },
  {
   "cell_type": "code",
   "execution_count": null,
   "id": "67ce66ae-697b-4d59-ac68-defbdf61f730",
   "metadata": {},
   "outputs": [],
   "source": []
  }
 ],
 "metadata": {
  "kernelspec": {
   "display_name": "Python 3 (ipykernel)",
   "language": "python",
   "name": "python3"
  },
  "language_info": {
   "codemirror_mode": {
    "name": "ipython",
    "version": 3
   },
   "file_extension": ".py",
   "mimetype": "text/x-python",
   "name": "python",
   "nbconvert_exporter": "python",
   "pygments_lexer": "ipython3",
   "version": "3.10.0"
  }
 },
 "nbformat": 4,
 "nbformat_minor": 5
}
