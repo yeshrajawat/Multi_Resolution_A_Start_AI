{
 "cells": [
  {
   "cell_type": "code",
   "execution_count": 2,
   "id": "d63b693f-f189-480a-b137-6f2d950792ac",
   "metadata": {},
   "outputs": [
    {
     "name": "stdout",
     "output_type": "stream",
     "text": [
      "visited nodes: [['S', 8], ['A', 9], ['B', 9], ['G', 9]]\n",
      "optimal nodes sequence: ['S', 'B', 'G']\n"
     ]
    }
   ],
   "source": [
    "Resolution = {'S': [['A', 1], ['B', 5], ['C', 8]],\n",
    "        'A': [['S', 1], ['D', 3], ['E', 7], ['G', 9]],\n",
    "        'B': [['S', 5], ['G', 4]],\n",
    "        'C': [['S', 8], ['G', 5]],\n",
    "        'D': [['A', 3]],\n",
    "        'E': [['A', 7]]}\n",
    "\n",
    "\n",
    "\n",
    "heuristic = {'S': 8, 'A': 8, 'B': 4, 'C': 3, 'D': 5000, 'E': 5000, 'G': 0}\n",
    "\n",
    "\n",
    "cost = {'S': 0}             # total cost for nodes visited\n",
    "\n",
    "\n",
    "def AStarSearch():\n",
    "    global Resolution, heuristic\n",
    "    closed = []             # closed nodes\n",
    "    opened = [['S', 8]]     # opened nodes\n",
    "\n",
    "    '''find the visited nodes'''\n",
    "    while True:\n",
    "        fn = [i[1] for i in opened]     # fn = f(n) = g(n) + h(n)\n",
    "        chosen_index = fn.index(min(fn))\n",
    "        node = opened[chosen_index][0]  # current node\n",
    "        closed.append(opened[chosen_index])\n",
    "        del opened[chosen_index]\n",
    "        if closed[-1][0] == 'G':        # break the loop if node G has been found\n",
    "            break\n",
    "        for item in Resolution[node]:\n",
    "            if item[0] in [closed_item[0] for closed_item in closed]:\n",
    "                continue\n",
    "            cost.update({item[0]: cost[node] + item[1]})            # add nodes to cost dictionary\n",
    "            fn_node = cost[node] + heuristic[item[0]] + item[1]     # calculate f(n) of current node\n",
    "            temp = [item[0], fn_node]\n",
    "            opened.append(temp)                                     # store f(n) of current node in array opened\n",
    "\n",
    "    '''find optimal sequence'''\n",
    "    trace_node = 'G'                        # correct optimal tracing node, initialize as node G\n",
    "    optimal_sequence = ['G']                # optimal node sequence\n",
    "    for i in range(len(closed)-2, -1, -1):\n",
    "        check_node = closed[i][0]           # current node\n",
    "        if trace_node in [children[0] for children in Resolution[check_node]]:\n",
    "            children_costs = [temp[1] for temp in Resolution[check_node]]\n",
    "            children_nodes = [temp[0] for temp in Resolution[check_node]]\n",
    "\n",
    "            '''check whether h(s) + g(s) = f(s). If so, append current node to optimal sequence\n",
    "            change the correct optimal tracing node to current node'''\n",
    "            if cost[check_node] + children_costs[children_nodes.index(trace_node)] == cost[trace_node]:\n",
    "                optimal_sequence.append(check_node)\n",
    "                trace_node = check_node\n",
    "    optimal_sequence.reverse()              # reverse the optimal sequence\n",
    "\n",
    "    return closed, optimal_sequence\n",
    "\n",
    "\n",
    "if __name__ == '__main__':\n",
    "    visitedNodes, optimalNodes = AStarSearch()\n",
    "    print('visited nodes: ' + str(visitedNodes))\n",
    "    print('optimal nodes sequence: ' + str(optimalNodes))"
   ]
  },
  {
   "cell_type": "code",
   "execution_count": null,
   "id": "a110bbca-4ada-4842-bea5-8e0d3696d5c9",
   "metadata": {},
   "outputs": [],
   "source": []
  }
 ],
 "metadata": {
  "kernelspec": {
   "display_name": "Python 3 (ipykernel)",
   "language": "python",
   "name": "python3"
  },
  "language_info": {
   "codemirror_mode": {
    "name": "ipython",
    "version": 3
   },
   "file_extension": ".py",
   "mimetype": "text/x-python",
   "name": "python",
   "nbconvert_exporter": "python",
   "pygments_lexer": "ipython3",
   "version": "3.10.0"
  }
 },
 "nbformat": 4,
 "nbformat_minor": 5
}
